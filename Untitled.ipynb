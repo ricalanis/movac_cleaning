{
 "cells": [
  {
   "cell_type": "code",
   "execution_count": 1,
   "metadata": {
    "collapsed": true
   },
   "outputs": [],
   "source": [
    "import pandas as pd"
   ]
  },
  {
   "cell_type": "code",
   "execution_count": 3,
   "metadata": {
    "collapsed": false
   },
   "outputs": [],
   "source": [
    "data = pd.read_excel(\"todas-limpia.xls\")"
   ]
  },
  {
   "cell_type": "code",
   "execution_count": 4,
   "metadata": {
    "collapsed": false
   },
   "outputs": [
    {
     "data": {
      "text/html": [
       "<div>\n",
       "<table border=\"1\" class=\"dataframe\">\n",
       "  <thead>\n",
       "    <tr style=\"text-align: right;\">\n",
       "      <th></th>\n",
       "      <th>ID</th>\n",
       "      <th>Ciudad</th>\n",
       "      <th>Mes</th>\n",
       "      <th>Fecha</th>\n",
       "      <th>Hora</th>\n",
       "      <th>Latitud</th>\n",
       "      <th>Longitud</th>\n",
       "      <th>Calle</th>\n",
       "      <th>Cruce</th>\n",
       "      <th>Sentido</th>\n",
       "      <th>...</th>\n",
       "      <th>Edad</th>\n",
       "      <th>Género</th>\n",
       "      <th>Uso de Cinturón</th>\n",
       "      <th>Por alcohol</th>\n",
       "      <th>Dictamen</th>\n",
       "      <th>Arresto</th>\n",
       "      <th>Lesionados</th>\n",
       "      <th>Número de lesionados</th>\n",
       "      <th>Muertos</th>\n",
       "      <th>Número de muertos</th>\n",
       "    </tr>\n",
       "  </thead>\n",
       "  <tbody>\n",
       "    <tr>\n",
       "      <th>0</th>\n",
       "      <td>MTY1</td>\n",
       "      <td>Monterrey</td>\n",
       "      <td>Mayo</td>\n",
       "      <td>2016-05-01 00:00:00</td>\n",
       "      <td>1899-12-30 00:00:00</td>\n",
       "      <td>25.7744</td>\n",
       "      <td>-100.372</td>\n",
       "      <td>CAMINO REAL</td>\n",
       "      <td>SANTOS  PALOMO</td>\n",
       "      <td>NORTE A SUR</td>\n",
       "      <td>...</td>\n",
       "      <td>SD</td>\n",
       "      <td>M</td>\n",
       "      <td>No</td>\n",
       "      <td>NaN</td>\n",
       "      <td>NaN</td>\n",
       "      <td>NaN</td>\n",
       "      <td>No</td>\n",
       "      <td>SD</td>\n",
       "      <td>No</td>\n",
       "      <td>SD</td>\n",
       "    </tr>\n",
       "    <tr>\n",
       "      <th>1</th>\n",
       "      <td>MTY10</td>\n",
       "      <td>Monterrey</td>\n",
       "      <td>Mayo</td>\n",
       "      <td>2016-05-01 00:00:00</td>\n",
       "      <td>1899-12-30 00:00:00</td>\n",
       "      <td>25.7242</td>\n",
       "      <td>-100.327</td>\n",
       "      <td>BERNARDO REYES</td>\n",
       "      <td>FIDEL VELAZQUEZ</td>\n",
       "      <td>Oriente a Poniente</td>\n",
       "      <td>...</td>\n",
       "      <td>57</td>\n",
       "      <td>M</td>\n",
       "      <td>Sí</td>\n",
       "      <td>NaN</td>\n",
       "      <td>NaN</td>\n",
       "      <td>NaN</td>\n",
       "      <td>No</td>\n",
       "      <td>SD</td>\n",
       "      <td>No</td>\n",
       "      <td>SD</td>\n",
       "    </tr>\n",
       "    <tr>\n",
       "      <th>2</th>\n",
       "      <td>MTY11</td>\n",
       "      <td>Monterrey</td>\n",
       "      <td>Mayo</td>\n",
       "      <td>2016-05-01 00:00:00</td>\n",
       "      <td>1899-12-30 00:00:00</td>\n",
       "      <td>25.6859</td>\n",
       "      <td>-100.323</td>\n",
       "      <td>BERNARDO REYES</td>\n",
       "      <td>REFORMA</td>\n",
       "      <td>NORTE A SUR</td>\n",
       "      <td>...</td>\n",
       "      <td>34</td>\n",
       "      <td>M</td>\n",
       "      <td>Sí</td>\n",
       "      <td>NaN</td>\n",
       "      <td>NaN</td>\n",
       "      <td>NaN</td>\n",
       "      <td>No</td>\n",
       "      <td>SD</td>\n",
       "      <td>No</td>\n",
       "      <td>SD</td>\n",
       "    </tr>\n",
       "    <tr>\n",
       "      <th>3</th>\n",
       "      <td>MTY12</td>\n",
       "      <td>Monterrey</td>\n",
       "      <td>Mayo</td>\n",
       "      <td>2016-05-01 00:00:00</td>\n",
       "      <td>1899-12-30 00:00:00</td>\n",
       "      <td>25.7974</td>\n",
       "      <td>-100.184</td>\n",
       "      <td>LINCOLN</td>\n",
       "      <td>CUMBRES DEL SOL</td>\n",
       "      <td>Oriente a Poniente</td>\n",
       "      <td>...</td>\n",
       "      <td>27</td>\n",
       "      <td>M</td>\n",
       "      <td>No</td>\n",
       "      <td>NaN</td>\n",
       "      <td>NaN</td>\n",
       "      <td>NaN</td>\n",
       "      <td>No</td>\n",
       "      <td>SD</td>\n",
       "      <td>No</td>\n",
       "      <td>SD</td>\n",
       "    </tr>\n",
       "    <tr>\n",
       "      <th>4</th>\n",
       "      <td>MTY13</td>\n",
       "      <td>Monterrey</td>\n",
       "      <td>Mayo</td>\n",
       "      <td>2016-05-01 00:00:00</td>\n",
       "      <td>1899-12-30 00:00:00</td>\n",
       "      <td>25.6822</td>\n",
       "      <td>-100.287</td>\n",
       "      <td>MADERO</td>\n",
       "      <td>PABLO A DE LA GARZA</td>\n",
       "      <td>NORTE A SUR</td>\n",
       "      <td>...</td>\n",
       "      <td>39</td>\n",
       "      <td>M</td>\n",
       "      <td>Sí</td>\n",
       "      <td>NaN</td>\n",
       "      <td>NaN</td>\n",
       "      <td>NaN</td>\n",
       "      <td>No</td>\n",
       "      <td>SD</td>\n",
       "      <td>No</td>\n",
       "      <td>SD</td>\n",
       "    </tr>\n",
       "  </tbody>\n",
       "</table>\n",
       "<p>5 rows × 30 columns</p>\n",
       "</div>"
      ],
      "text/plain": [
       "      ID     Ciudad   Mes                Fecha                 Hora  Latitud  \\\n",
       "0   MTY1  Monterrey  Mayo  2016-05-01 00:00:00  1899-12-30 00:00:00  25.7744   \n",
       "1  MTY10  Monterrey  Mayo  2016-05-01 00:00:00  1899-12-30 00:00:00  25.7242   \n",
       "2  MTY11  Monterrey  Mayo  2016-05-01 00:00:00  1899-12-30 00:00:00  25.6859   \n",
       "3  MTY12  Monterrey  Mayo  2016-05-01 00:00:00  1899-12-30 00:00:00  25.7974   \n",
       "4  MTY13  Monterrey  Mayo  2016-05-01 00:00:00  1899-12-30 00:00:00  25.6822   \n",
       "\n",
       "  Longitud           Calle                Cruce             Sentido  \\\n",
       "0 -100.372     CAMINO REAL       SANTOS  PALOMO         NORTE A SUR   \n",
       "1 -100.327  BERNARDO REYES      FIDEL VELAZQUEZ  Oriente a Poniente   \n",
       "2 -100.323  BERNARDO REYES              REFORMA         NORTE A SUR   \n",
       "3 -100.184         LINCOLN      CUMBRES DEL SOL  Oriente a Poniente   \n",
       "4 -100.287          MADERO  PABLO A DE LA GARZA         NORTE A SUR   \n",
       "\n",
       "         ...        Edad Género Uso de Cinturón Por alcohol Dictamen Arresto  \\\n",
       "0        ...          SD      M              No         NaN      NaN     NaN   \n",
       "1        ...          57      M              Sí         NaN      NaN     NaN   \n",
       "2        ...          34      M              Sí         NaN      NaN     NaN   \n",
       "3        ...          27      M              No         NaN      NaN     NaN   \n",
       "4        ...          39      M              Sí         NaN      NaN     NaN   \n",
       "\n",
       "  Lesionados Número de lesionados Muertos Número de muertos  \n",
       "0         No                   SD      No                SD  \n",
       "1         No                   SD      No                SD  \n",
       "2         No                   SD      No                SD  \n",
       "3         No                   SD      No                SD  \n",
       "4         No                   SD      No                SD  \n",
       "\n",
       "[5 rows x 30 columns]"
      ]
     },
     "execution_count": 4,
     "metadata": {},
     "output_type": "execute_result"
    }
   ],
   "source": [
    "data.head(5)"
   ]
  },
  {
   "cell_type": "code",
   "execution_count": 6,
   "metadata": {
    "collapsed": false
   },
   "outputs": [
    {
     "name": "stderr",
     "output_type": "stream",
     "text": [
      "/usr/local/lib/python2.7/site-packages/matplotlib/font_manager.py:273: UserWarning: Matplotlib is building the font cache using fc-list. This may take a moment.\n",
      "  warnings.warn('Matplotlib is building the font cache using fc-list. This may take a moment.')\n"
     ]
    }
   ],
   "source": []
  },
  {
   "cell_type": "code",
   "execution_count": 16,
   "metadata": {
    "collapsed": false
   },
   "outputs": [
    {
     "ename": "UnicodeEncodeError",
     "evalue": "'ascii' codec can't encode character u'\\xd1' in position 10: ordinal not in range(128)",
     "output_type": "error",
     "traceback": [
      "\u001b[0;31m---------------------------------------------------------------------------\u001b[0m",
      "\u001b[0;31mUnicodeEncodeError\u001b[0m                        Traceback (most recent call last)",
      "\u001b[0;32m<ipython-input-16-cfece44ff07a>\u001b[0m in \u001b[0;36m<module>\u001b[0;34m()\u001b[0m\n\u001b[1;32m      1\u001b[0m \u001b[0mcruces_compound\u001b[0m \u001b[0;34m=\u001b[0m \u001b[0;34m[\u001b[0m\u001b[0;34m]\u001b[0m\u001b[0;34m\u001b[0m\u001b[0m\n\u001b[1;32m      2\u001b[0m \u001b[0;32mfor\u001b[0m \u001b[0mi\u001b[0m \u001b[0;32min\u001b[0m \u001b[0mdata\u001b[0m\u001b[0;34m.\u001b[0m\u001b[0miterrows\u001b[0m\u001b[0;34m(\u001b[0m\u001b[0;34m)\u001b[0m\u001b[0;34m:\u001b[0m\u001b[0;34m\u001b[0m\u001b[0m\n\u001b[0;32m----> 3\u001b[0;31m     \u001b[0mcruce\u001b[0m \u001b[0;34m=\u001b[0m \u001b[0mstr\u001b[0m\u001b[0;34m(\u001b[0m\u001b[0mi\u001b[0m\u001b[0;34m[\u001b[0m\u001b[0;36m1\u001b[0m\u001b[0;34m]\u001b[0m\u001b[0;34m[\u001b[0m\u001b[0;34m\"Calle\"\u001b[0m\u001b[0;34m]\u001b[0m\u001b[0;34m)\u001b[0m \u001b[0;34m+\u001b[0m \u001b[0mstr\u001b[0m\u001b[0;34m(\u001b[0m\u001b[0mi\u001b[0m\u001b[0;34m[\u001b[0m\u001b[0;36m1\u001b[0m\u001b[0;34m]\u001b[0m\u001b[0;34m[\u001b[0m\u001b[0;34m\"Cruce\"\u001b[0m\u001b[0;34m]\u001b[0m\u001b[0;34m)\u001b[0m\u001b[0;34m\u001b[0m\u001b[0m\n\u001b[0m",
      "\u001b[0;31mUnicodeEncodeError\u001b[0m: 'ascii' codec can't encode character u'\\xd1' in position 10: ordinal not in range(128)"
     ]
    }
   ],
   "source": [
    "cruces_compound = []\n",
    "for i in data.iterrows():\n",
    "    cruce = str(i[1][\"Calle\"]) + str(i[1][\"Cruce\"])"
   ]
  },
  {
   "cell_type": "code",
   "execution_count": null,
   "metadata": {
    "collapsed": true
   },
   "outputs": [],
   "source": []
  }
 ],
 "metadata": {
  "kernelspec": {
   "display_name": "IPython (Python 2)",
   "language": "python",
   "name": "python2"
  },
  "language_info": {
   "codemirror_mode": {
    "name": "ipython",
    "version": 2
   },
   "file_extension": ".py",
   "mimetype": "text/x-python",
   "name": "python",
   "nbconvert_exporter": "python",
   "pygments_lexer": "ipython2",
   "version": "2.7.10"
  }
 },
 "nbformat": 4,
 "nbformat_minor": 0
}
